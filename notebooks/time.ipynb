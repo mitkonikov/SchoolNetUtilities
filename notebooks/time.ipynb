{
 "metadata": {
  "language_info": {
   "codemirror_mode": {
    "name": "ipython",
    "version": 3
   },
   "file_extension": ".py",
   "mimetype": "text/x-python",
   "name": "python",
   "nbconvert_exporter": "python",
   "pygments_lexer": "ipython3",
   "version": "3.7.0-final"
  },
  "orig_nbformat": 2,
  "kernelspec": {
   "name": "python3",
   "display_name": "Python 3.7.0 64-bit",
   "metadata": {
    "interpreter": {
     "hash": "0cd9dfacd0aaad32f3368ab886f30578631b8ea573a55d5d46e6046682feb4d9"
    }
   }
  }
 },
 "nbformat": 4,
 "nbformat_minor": 2,
 "cells": [
  {
   "cell_type": "code",
   "execution_count": 89,
   "metadata": {},
   "outputs": [
    {
     "output_type": "stream",
     "name": "stdout",
     "text": [
      "['пр', 'стр', 'км', 'м', 'а', 'б', 'в', 'г', 'д', 'ѓ', 'ж', 'з', 'ѕ', 'ј', 'к', 'л', 'љ', 'м', 'н', 'њ', 'о', 'п', 'р', 'с', 'т', 'ќ', 'у', 'ф', 'х', 'ц', 'ч', 'џ', 'ш']\n"
     ]
    }
   ],
   "source": [
    "import time\n",
    "import re\n",
    "\n",
    "IGNORED_WORDS = [\"пр\", \"стр\", \"км\", \"м\"]\n",
    "\n",
    "for l in \"абвгдѓжзѕјклљмнњопрстќуфхцчџш\":\n",
    "    IGNORED_WORDS.append(str(l))\n",
    "\n",
    "print(IGNORED_WORDS)"
   ]
  },
  {
   "cell_type": "code",
   "execution_count": 90,
   "metadata": {},
   "outputs": [],
   "source": [
    "a = \"Северната граница кон Република Србија, се протега во правец запад-исток, во должина од 263 км. Низ нејзината должина границата пресекува 7 гран д ични премини, 6 планини, 1 клисура, 3 поголеми д реки итн. Границата почнува од врвот Шерупа (2.092 м), кој претставува тромеѓе помеѓу Република Албанија, Република Србија и Република Македонија. Уште во самиот почеток границата го пресекува горниот дел од сливното подрачје на реката Радика и грани г чниот премин Гора-Рес г телница од каде што кон исток почну д ва да се искачува и понатаму в ф ф оди по центр д алното планинско било на Шар Планина, сè до врвот Љуботен (2.499 м).\"\n",
    "\n",
    "for x in range(10):\n",
    "    a = a + a"
   ]
  },
  {
   "cell_type": "code",
   "execution_count": 91,
   "metadata": {},
   "outputs": [],
   "source": [
    "def clean(text):\n",
    "    t = \"\"\n",
    "    for word in re.findall(\"[абвгдѓеèжзѕијклљмнњопрстќуфхцчџшАБВГДЃЕЖЗЅИЈКЛЉМНЊОПРСТЌУФХЦЧЏШ\\d\\.\\,\\:\\!\\?]+[ \\n]\", text):\n",
    "        failed = False\n",
    "        for w in IGNORED_WORDS:\n",
    "            if w == word:\n",
    "                failed = True\n",
    "                break\n",
    "\n",
    "        if not failed:\n",
    "            t = t + word\n",
    "\n",
    "    return t"
   ]
  },
  {
   "cell_type": "code",
   "execution_count": 94,
   "metadata": {},
   "outputs": [
    {
     "output_type": "stream",
     "name": "stdout",
     "text": [
      "^(пр)$|^(стр)$|^(км)$|^(м)$|^(а)$|^(б)$|^(в)$|^(г)$|^(д)$|^(ѓ)$|^(ж)$|^(з)$|^(ѕ)$|^(ј)$|^(к)$|^(л)$|^(љ)$|^(м)$|^(н)$|^(њ)$|^(о)$|^(п)$|^(р)$|^(с)$|^(т)$|^(ќ)$|^(у)$|^(ф)$|^(х)$|^(ц)$|^(ч)$|^(џ)$|^(ш)$\n"
     ]
    }
   ],
   "source": [
    "reg = \"\"\n",
    "for x in range(len(IGNORED_WORDS)):\n",
    "    reg = reg + \"^(\" + IGNORED_WORDS[x] + \")$|\"\n",
    "\n",
    "reg = reg[:len(reg)-1]\n",
    "print(reg)\n",
    "\n",
    "def reClean(text):\n",
    "    t = \"\"\n",
    "    for word in re.findall(\"[абвгдѓеèжзѕијклљмнњопрстќуфхцчџшАБВГДЃЕЖЗЅИЈКЛЉМНЊОПРСТЌУФХЦЧЏШ\\d\\.\\,\\:\\!\\?]+[ \\n]\", text):\n",
    "        if not (re.match(reg, word)):\n",
    "            t = t + word\n",
    "\n",
    "    return t"
   ]
  },
  {
   "cell_type": "code",
   "execution_count": 101,
   "metadata": {},
   "outputs": [
    {
     "output_type": "stream",
     "name": "stdout",
     "text": [
      "Time elapsed 1:  0.29956984519958496\n",
      "Time elapsed 2:  0.44605135917663574\n",
      "Северната граница кон Република Србија, се протега во правец исток, во должина од 263 км. Низ нејзината должина границат\n",
      "Северната граница кон Република Србија, се протега во правец исток, во должина од 263 км. Низ нејзината должина границат\n"
     ]
    }
   ],
   "source": [
    "start_time = time.time()\n",
    "\n",
    "y = clean(a)\n",
    "\n",
    "elapsed_time = time.time() - start_time\n",
    "print(\"Time elapsed 1: \", elapsed_time)\n",
    "\n",
    "\n",
    "start_time = time.time()\n",
    "\n",
    "x = reClean(a)\n",
    "\n",
    "elapsed_time = time.time() - start_time\n",
    "print(\"Time elapsed 2: \", elapsed_time)\n",
    "\n",
    "print(y[:120])\n",
    "print(x[:120])"
   ]
  },
  {
   "cell_type": "code",
   "execution_count": null,
   "metadata": {},
   "outputs": [],
   "source": []
  }
 ]
}