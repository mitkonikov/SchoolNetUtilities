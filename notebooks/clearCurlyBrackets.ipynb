{
 "metadata": {
  "language_info": {
   "codemirror_mode": {
    "name": "ipython",
    "version": 3
   },
   "file_extension": ".py",
   "mimetype": "text/x-python",
   "name": "python",
   "nbconvert_exporter": "python",
   "pygments_lexer": "ipython3",
   "version": "3.7.0-final"
  },
  "orig_nbformat": 2,
  "kernelspec": {
   "name": "python3",
   "display_name": "Python 3.7.0 64-bit",
   "metadata": {
    "interpreter": {
     "hash": "0cd9dfacd0aaad32f3368ab886f30578631b8ea573a55d5d46e6046682feb4d9"
    }
   }
  }
 },
 "nbformat": 4,
 "nbformat_minor": 2,
 "cells": [
  {
   "cell_type": "code",
   "execution_count": 1,
   "metadata": {},
   "outputs": [],
   "source": [
    "import re"
   ]
  },
  {
   "cell_type": "code",
   "execution_count": 2,
   "metadata": {},
   "outputs": [],
   "source": [
    "a = \"\"\"{{starts with}}\n",
    "== Население ==\n",
    "{{Something|{{Something}}}}{{Else}}\n",
    "\n",
    "=== Населување и етнографски процеси}} ===\n",
    "\"\"\""
   ]
  },
  {
   "cell_type": "code",
   "execution_count": 3,
   "metadata": {},
   "outputs": [],
   "source": [
    "def clearCurlyBrackets(text: str) -> str:\n",
    "    i = 1\n",
    "    startPos = -1\n",
    "    while i < len(text):\n",
    "        if (text[i-1] == '{' and text[i] == '{' and startPos == -1):\n",
    "            startPos = i-1\n",
    "        elif (text[i-1] == '}' and text[i] == '}' and startPos != -1):\n",
    "            leftText = text[:startPos]\n",
    "            rightText = text[(i+1):]\n",
    "            text = leftText + rightText\n",
    "            i = startPos - 1\n",
    "            startPos = -1\n",
    "        \n",
    "        i += 1\n",
    "    \n",
    "    # clean some leftovers\n",
    "    text = re.sub(\"(\\{\\{)|(\\}\\})\", \"\", text)\n",
    "\n",
    "    return text"
   ]
  },
  {
   "cell_type": "code",
   "execution_count": 4,
   "metadata": {},
   "outputs": [
    {
     "output_type": "stream",
     "name": "stdout",
     "text": [
      "\n== Население ==\n\n\n=== Населување и етнографски процеси ===\n\n"
     ]
    }
   ],
   "source": [
    "print(clearCurlyBrackets(a))"
   ]
  },
  {
   "cell_type": "code",
   "execution_count": null,
   "metadata": {},
   "outputs": [],
   "source": []
  }
 ]
}