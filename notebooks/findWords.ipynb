{
 "metadata": {
  "language_info": {
   "codemirror_mode": {
    "name": "ipython",
    "version": 3
   },
   "file_extension": ".py",
   "mimetype": "text/x-python",
   "name": "python",
   "nbconvert_exporter": "python",
   "pygments_lexer": "ipython3",
   "version": "3.7.0-final"
  },
  "orig_nbformat": 2,
  "kernelspec": {
   "name": "python3",
   "display_name": "Python 3.7.0 64-bit",
   "metadata": {
    "interpreter": {
     "hash": "0cd9dfacd0aaad32f3368ab886f30578631b8ea573a55d5d46e6046682feb4d9"
    }
   }
  }
 },
 "nbformat": 4,
 "nbformat_minor": 2,
 "cells": [
  {
   "cell_type": "code",
   "execution_count": 9,
   "metadata": {},
   "outputs": [],
   "source": [
    "from os.path import isfile, join\n",
    "sys.path.append(\"C:/GitHub/SchoolNetUtilities\")\n",
    "import wikipedia.alphabet as alphabet"
   ]
  },
  {
   "cell_type": "code",
   "execution_count": 10,
   "metadata": {},
   "outputs": [],
   "source": [
    "import re\n",
    "STOP_CHARS = ['.', '!', '?', '{', '}']\n",
    "UNWANTED_CHARS = ['.', ',', ':', '!', '?', ';']\n",
    "DATABASE = {}\n",
    "countSen = []\n",
    "countWords = []"
   ]
  },
  {
   "cell_type": "code",
   "execution_count": 11,
   "metadata": {},
   "outputs": [],
   "source": [
    "def convertFile(text):\n",
    "    global DATABASE\n",
    "    global countSen\n",
    "    global countWords\n",
    "\n",
    "    fileWords = 0\n",
    "    fileSen = 0\n",
    "\n",
    "    allWords: List[str]\n",
    "    allWords = re.findall(\"[\" + alphabet.getAlphabet() + \"]+[ \\n\\.\\,\\;\\:\\!\\?]\", text)\n",
    "    \n",
    "    startSen = False\n",
    "    for word in allWords:\n",
    "        if re.match(\"[\" + alphabet.getAlphabet() + \"]+[ \\n]\", word):\n",
    "            startSen = True\n",
    "\n",
    "        for ending in STOP_CHARS:\n",
    "            if word.endswith(ending):\n",
    "                if startSen:\n",
    "                    startSen = False\n",
    "                    fileSen += 1\n",
    "                \n",
    "        cleanWord = word[:len(word) - 1]\n",
    "        print(\"Clean Word: \", cleanWord)\n",
    "\n",
    "        if cleanWord in DATABASE:\n",
    "            DATABASE[cleanWord] = DATABASE[cleanWord] + 1\n",
    "        else:\n",
    "            DATABASE[cleanWord] = 1\n",
    "\n",
    "    # Append statistics for each file\n",
    "    countWords.append(len(allWords))\n",
    "    countSen.append(fileSen)"
   ]
  },
  {
   "cell_type": "code",
   "execution_count": 12,
   "metadata": {},
   "outputs": [
    {
     "output_type": "stream",
     "name": "stdout",
     "text": [
      "Clean Word:  Јас\nClean Word:  сум\nClean Word:  Митко\nClean Word:  Прост\nClean Word:  пример\nClean Word:  реченица\nClean Word:  се\nClean Word:  гледаме\nClean Word:  утре\nCount of Sen:  [2]\nCount of Words: [9]\n"
     ]
    }
   ],
   "source": [
    "convertFile(\"test Јас сум Митко. Прост пример реченица, се гледаме утре. something { something\")\n",
    "print(\"Count of Sen: \", countSen)\n",
    "print(\"Count of Words:\", countWords)"
   ]
  },
  {
   "cell_type": "code",
   "execution_count": null,
   "metadata": {},
   "outputs": [],
   "source": []
  }
 ]
}