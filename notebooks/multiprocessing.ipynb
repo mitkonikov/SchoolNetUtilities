{
 "metadata": {
  "language_info": {
   "codemirror_mode": {
    "name": "ipython",
    "version": 3
   },
   "file_extension": ".py",
   "mimetype": "text/x-python",
   "name": "python",
   "nbconvert_exporter": "python",
   "pygments_lexer": "ipython3",
   "version": "3.7.0-final"
  },
  "orig_nbformat": 2,
  "kernelspec": {
   "name": "python3",
   "display_name": "Python 3.7.0 64-bit",
   "metadata": {
    "interpreter": {
     "hash": "0cd9dfacd0aaad32f3368ab886f30578631b8ea573a55d5d46e6046682feb4d9"
    }
   }
  }
 },
 "nbformat": 4,
 "nbformat_minor": 2,
 "cells": [
  {
   "cell_type": "code",
   "execution_count": 33,
   "metadata": {},
   "outputs": [],
   "source": [
    "from multiprocessing import Process\n",
    "import time\n",
    "from typing import List\n",
    "\n",
    "queues: List[List[int]]\n",
    "queues = []\n",
    "for x in range(2):\n",
    "    queues.append([])\n",
    "    for y in range(5):\n",
    "        queues[x].append((x+1)*y)"
   ]
  },
  {
   "cell_type": "code",
   "execution_count": 34,
   "metadata": {},
   "outputs": [],
   "source": [
    "def worker(i):\n",
    "    print(\"Worker {i} says hello!\")\n",
    "    # while len(queue[i]) > 0:\n",
    "    #     top = queue[i][0]\n",
    "    #     queue[i].pop(0)\n",
    "    #     # process it\n",
    "    #     print(top)\n",
    "    #     time.sleep(0.5)"
   ]
  },
  {
   "cell_type": "code",
   "execution_count": 35,
   "metadata": {},
   "outputs": [
    {
     "output_type": "stream",
     "name": "stdout",
     "text": [
      "Time elapsed:  0.22999835014343262\n"
     ]
    }
   ],
   "source": [
    "start_time = time.time()\n",
    "\n",
    "for i in range(2):\n",
    "    p = Process(target=worker, args=(i,))\n",
    "    p.start()\n",
    "    p.join()\n",
    "\n",
    "elapsed_time = time.time() - start_time\n",
    "print(\"Time elapsed: \", elapsed_time)"
   ]
  },
  {
   "cell_type": "code",
   "execution_count": null,
   "metadata": {},
   "outputs": [],
   "source": []
  }
 ]
}